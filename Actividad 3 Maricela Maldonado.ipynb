{
 "cells": [
  {
   "cell_type": "markdown",
   "id": "c86189d8",
   "metadata": {},
   "source": [
    "### Ejercicio 1::\n",
    "#### Para el Sistema Lineal:\n",
    "$$\\left\\{\\begin{align}\n",
    "6x_1 & = 12\\\\\n",
    "6x_2+3x_1 & = -12\\\\\n",
    "7x_3-2x_2+4x_1 & = 14\\\\\n",
    "21x_4+9x_3-3x_2+5x_1 & = -2\n",
    "\\end{align}\\right.$$\n",
    "\n",
    "#### Encuentre los valores de $x_1, x_2, x_3, x_4$ utilizando sustitución progresiva. Encuentre la descomposición LU del sistema anterior. Qué puede concluir ####\n",
    "\n",
    "#### Despejamos $X_1$ en la primera ecuación ####\n",
    "$$\\begin{align}\n",
    "x_1 & =\\frac{12}{2} && \\mbox{entonces}\\ & x_1=2\n",
    "\\end{align}$$\n",
    "\n",
    "#### Encontramos $x_2$  con el valor de $x_1$\n",
    "$$\\begin{align}\n",
    "x_2 & =\\frac{-12-3(2)}{6} && \\mbox{entonces}\\ & x_1=-3\n",
    "\\end{align}$$\n",
    "\n",
    "#### Una vez definidos los valores de $x_1$  y $x_2$ encontramos el valor de $x_3$\n",
    "$$\\begin{align}\n",
    "x_3 & =\\frac{14-4(2)+2(-3)}{7} && \\mbox{entonces}\\ & x_3=0\n",
    "\\end{align}$$\n",
    "\n",
    "#### Conociendo los valores de $x_1$ , $x_2$ y $x_3$ hallamos el valor de $x_4$\n",
    "$$\\begin{align}\n",
    "x_3 & =\\frac{-2-5(2)+3(-3)-9(0)}{21} && \\mbox{entonces}\\ & x_4=-1\n",
    "\\end{align}$$\n",
    "#### Forma Matricial $Ax=b$\n",
    "\n",
    "$$\\left(\\begin{array}{cccc}6 & 0 & 0 & 0 \\\\ 3 & 6 & 0 & 0 \\\\ 4 & -2 & 7 & 0 \\\\ 5 & -3 & 9 & 21 \\end{array}\\right)\n",
    "\\left(\\begin{array}{c} x_1 \\\\ x_2 \\\\ x_3 \\\\ x_4 \\end{array}\\right)=\n",
    "\\left(\\begin{array}{c} 12 \\\\ -12 \\\\ 14 \\\\ -2 \\end{array}\\right)$$\n"
   ]
  },
  {
   "cell_type": "markdown",
   "id": "f7edf35d",
   "metadata": {},
   "source": [
    "### Programa ###"
   ]
  },
  {
   "cell_type": "code",
   "execution_count": 8,
   "id": "621cb65a",
   "metadata": {},
   "outputs": [
    {
     "name": "stdout",
     "output_type": "stream",
     "text": [
      "[ 2. -3.  0. -1.]\n"
     ]
    }
   ],
   "source": [
    "import numpy as np\n",
    "### Matriz del Sistema:\n",
    "A=np.array([[6,0,0,0],[3,6,0,0],[4,-2,7,0],[5,-3,9,21]])\n",
    "\n",
    "### Términos Independientes:\n",
    "b= np.array([12,-12,14,-2])\n",
    "\n",
    "### Número de Ecuaciones:\n",
    "n= np.size(b) \n",
    "\n",
    "### Vector para guardar información\n",
    "x= np.zeros(n)\n",
    "\n",
    "### Sustitución Progresiva:\n",
    "for i in range (n):\n",
    "    sumj=0\n",
    "    for j in range (i):\n",
    "        sumj+=A[i,j]*x[j]\n",
    "    x[i]=(b[i]-sumj)*1/A[i,i]\n",
    "print (x)  \n",
    "        \n"
   ]
  },
  {
   "cell_type": "markdown",
   "id": "943acb6a",
   "metadata": {},
   "source": [
    "#### Matriz $L=LU$\n",
    "\n",
    "$$\\left(\\begin{array}{cccc}6 & 0 & 0 & 0 \\\\ 3 & 6 & 0 & 0 \\\\ 4 & -2 & 7 & 0 \\\\ 5 & -3 & 9 & 21 \\end{array}\\right)\n",
    "\\left(\\begin{array}{cccc}1 & 0 & 0 & 0 \\\\ 0 & 1 & 0 & 0 \\\\ 0 & 0 & 1 & 0 \\\\ 0 & 0 & 0 & 1 \\end{array}\\right)$$\n"
   ]
  },
  {
   "cell_type": "markdown",
   "id": "47fb04a1",
   "metadata": {},
   "source": [
    "### Conclusión ###\n",
    "#### La descomposición de matrices LU es muy útil ya que permite alivianar la cantidad de operaciones al momento de resolver un sistema  extenso pues su proceso es más abreviado optimizando el tiempo a la hora de programar. ####"
   ]
  },
  {
   "cell_type": "markdown",
   "id": "f91bae2c",
   "metadata": {},
   "source": [
    "### Ejercicio 2 \n",
    "\n",
    "#### Resolver las siguientes matrices mediante la descomposición de Cholesky\n",
    "$$A=\\left(\\begin{array}{ccc} 4&6&10\\\\6&25&19\\\\10&19&62 \\end{array}\\right)$$\n",
    "$$B=\\left(\\begin{array}{ccc} 4&6&10\\\\6&3&19\\\\10&19&62 \\end{array}\\right)$$\n",
    "\n",
    "#### Analizar el caso y escribir sus conclusiones.\n",
    "#### 1. Verificar si A es simétrica y definida positiva\n",
    "#### Simétrica: $A=A^{T}$\n",
    "$$\\left(\\begin{array}{ccc} 4&6&10\\\\6&25&19\\\\10&19&62 \\end{array}\\right)=\\left(\\begin{array}{ccc} 4&6&10\\\\6&25&\n",
    "19\\\\10&19&62 \\end{array}\\right)$$\n",
    "#### Calculamos los determinantes de las sub-matrices principales de A\n",
    "#### Menor principal 1:\n",
    "$$A_1=\\left|\\begin{array}{c} 4 \\end{array}\\right|= 4 > 0$$\n",
    "#### Menor principal 2:\n",
    "$$A_2=\\left|\\begin{array}{cc} 4&6\\\\6&25 \\end{array}\\right|=100-36 = 64 > 0 $$\n",
    "#### Menor principal 3:\n",
    "$$A_3=\\left|\\begin{array}{ccc} 4&6&10\\\\6&25&19\\\\10&19&62 \\end{array}\\right|=4756-1092-1360=2304 > 0 $$\n",
    "#### Debido a que la matriz A es simétrica y definida positiva utilizamos la descomposición de Cholesky\n",
    "#### Donde: $[U]=[L]^{T}$\n",
    "$$A=LU=LL^{T}$$\n",
    "#### Es decir:\n",
    "$$\\left(\\begin{array}{ccc} 4&6&10\\\\6&25&19\\\\10&19&62 \\end{array}\\right)=\n",
    "\\left(\\begin{array}{ccc} l_{11}&0&0\\\\l_{21}&l_{22}&0\\\\l_{31}&l_{32}&l_{33} \\end{array}\\right)\n",
    "\\left(\\begin{array}{ccc} l_{11}&l_{21}&l_{31}\\\\0&l_{22}&l_{32}\\\\0&0&l_{33} \\end{array}\\right)$$\n",
    "#### Realizamos el producto:\n",
    "$$\\left(\\begin{array}{ccc} 4&6&10\\\\6&25&19\\\\10&19&62 \\end{array}\\right)=\\left(\\begin{array}{ccc} l_{11}^{2}&l_{11}\n",
    "l_{21}&l_{11}l_{31}\\\\l_{11}l_{21}&l_{21}^{2}+l_{22}^{2}&l_{21}l_{31}+l_{22}l_{32}\\\\l_{11}l_{31}&l_{31}l_{21}+l_{32}\n",
    "l_{22}&l_{31}^{2}+l_{32}^{2}+l_{33}^{2} \\end{array}\\right)$$\n",
    "#### Igualamos elemento a elemento\n",
    "\n",
    "#### Fila 1::\n",
    "$$\\begin{align}l_{11}^{2}=4 && \\mbox{entonces}\\ &&\n",
    "l_{11}=2\\end{align}$$\n",
    "$$\\begin{align}l_{11}l_{21}=6 && \\mbox{entonces}\\ && l_{21}=3\\end{align}$$\n",
    "$$\\begin{align}l_{11}l_{31}=10 && \\mbox{entonces}\\ && l_{31}=5\\end{align}$$\n",
    "\n",
    "#### Fila 2::\n",
    "$$\\begin{align}l_{21}^{2}l_{22}^{2}=25 && \\mbox{entonces}\\ && l_{22}=4\\end{align}$$\n",
    "$$\\begin{align}l_{21}l_{31}+l_{22}l_{32}=19 && \\mbox{entonces}\\ && l_{32}=1\\end{align}$$\n",
    "\n",
    "#### Fila 3::\n",
    "$$\\begin{align}l_{31}^{2}+l_{32}^{2}+l_{33}^{2}=62 && \\mbox{entonces}\\ && l_{33}=6\\end{align}$$\n",
    "\n",
    "#### La matriz $L$ es:\n",
    "$$L=\\left(\\begin{array}{ccc} 2&0&0\\\\3&4&0\\\\5&1&6 \\end{array}\\right)$$\n",
    "\n",
    "#### Descomposicion Cholesky:\n",
    "$$\\left(\\begin{array}{ccc} 4&6&10\\\\6&25&19\\\\10&19&62 \\end{array}\\right)=\n",
    "\\left(\\begin{array}{ccc} 2&0&0\\\\3&4&0\\\\5&1&6 \\end{array}\\right)\n",
    "\\left(\\begin{array}{ccc} 2&3&5\\\\0&4&1\\\\0&0&6 \\end{array}\\right)$$"
   ]
  },
  {
   "cell_type": "markdown",
   "id": "955bf50b",
   "metadata": {},
   "source": [
    "#### Programa ####"
   ]
  },
  {
   "cell_type": "code",
   "execution_count": 24,
   "id": "d4910a7b",
   "metadata": {},
   "outputs": [
    {
     "name": "stdout",
     "output_type": "stream",
     "text": [
      "[[2. 0. 0.]\n",
      " [3. 4. 0.]\n",
      " [5. 1. 6.]] \n",
      "\n",
      "[[2. 0. 0.]\n",
      " [3. 4. 0.]\n",
      " [5. 1. 6.]] L \n",
      "\n",
      "[[2. 3. 5.]\n",
      " [0. 4. 1.]\n",
      " [0. 0. 6.]] L^T \n",
      "\n",
      "[[ 4.  6. 10.]\n",
      " [ 6. 25. 19.]\n",
      " [10. 19. 62.]] LL^T \n",
      "\n",
      "[[ 2.  0.  0.]\n",
      " [ 3. nan  0.]\n",
      " [ 5. nan nan]] L \n",
      "\n",
      "[[ 2.  3.  5.]\n",
      " [ 0. nan nan]\n",
      " [ 0.  0. nan]] L^T \n",
      "\n",
      "[[ 4. nan nan]\n",
      " [nan nan nan]\n",
      " [nan nan nan]] LL^T\n"
     ]
    },
    {
     "name": "stderr",
     "output_type": "stream",
     "text": [
      "<ipython-input-24-98506aec0c2a>:9: RuntimeWarning: invalid value encountered in sqrt\n",
      "  L[i,j]=np.sqrt(A[i,j]-np.sum(L[i,:j]**2))\n"
     ]
    }
   ],
   "source": [
    "import numpy as np\n",
    "def cholesky(A):\n",
    "    A=np.array(A,float)\n",
    "    L=np.zeros_like(A)\n",
    "    n,_=np.shape(A)\n",
    "    for j in range (n):\n",
    "        for i in range(j,n):\n",
    "            if i==j:\n",
    "                L[i,j]=np.sqrt(A[i,j]-np.sum(L[i,:j]**2))\n",
    "            else:\n",
    "                L[i,j]=(A[i,j]-np.sum(L[i,:j]*L[j,:j]))/L[j,j]\n",
    "    return L\n",
    "A=[[4,6,10],[6,25,19],[10,19,62]]\n",
    "l=cholesky(A)\n",
    "print(l,'\\n')\n",
    "print(l,'L \\n')\n",
    "print(l.T,'L^T \\n')\n",
    "print(np.dot(l,l.T),'LL^T \\n')\n",
    "B=[[4,6,10],[6,3,19],[10,19,62]]\n",
    "l=cholesky(B)\n",
    "print(l,'L \\n')\n",
    "print(l.T,'L^T \\n')\n",
    "print(np.dot(l,l.T),'LL^T' )\n"
   ]
  },
  {
   "cell_type": "markdown",
   "id": "5004a46f",
   "metadata": {},
   "source": [
    "### Conclusión ###\n",
    "#### Cholesky al ser un método directo permitió agilizar las operaciones pues la devolución de resultados fue eficiente, pero se puede observar que es aplicable para un sistema de ecuaciones limitado pues pudimos comprobar que es simétrico, es definida positiva pudiendo ser descompuesta como el producto de una matriz triangular inferior y su traspuesta como podemos observar en el programa. ####"
   ]
  },
  {
   "cell_type": "markdown",
   "id": "dcbf89c1",
   "metadata": {},
   "source": [
    "#### 3. Utilice el metodo de Jacobi, Gauss-Seidel y SOR (w=1.1) para resolver el sisguietne sistema lineas con una precision de cuatro cifras decimales\n",
    "$$\\left(\\begin{array}{cccc} 7 & 1 &-1 & 2 \\\\1 & 8 & 0 &-2 \\\\ 2 &-2 &-1 & 6 \\end{array}\\right)\n",
    "\\left(\\begin{array}{c} x_1 \\\\ x_2 \\\\ x_3 \\\\ x_4 \\end{array}\\right)=\n",
    "\\left(\\begin{array}{c} 3 \\\\ -5 \\\\ 4 \\\\ -3 \\end{array}\\right)$$\n",
    "#### Compare el numero de iteraciones necesario en cada algoritmo. Analice el error cometido si la solucion exacta es $x=(1,-1,1,-1)^T$"
   ]
  },
  {
   "cell_type": "markdown",
   "id": "de5e631a",
   "metadata": {},
   "source": [
    "### Metodo Jacobi ###\n",
    "$$\\left(\\begin{array}{cccc} 7 & 1 &-1 & 2 \\\\1 & 8 & 0 &-2 \\\\ 2 &-2 &-1 & 6 \\end{array}\\right)\n",
    "\\left(\\begin{array}{c} x_1 \\\\ x_2 \\\\ x_3 \\\\ x_4 \\end{array}\\right)=\n",
    "\\left(\\begin{array}{c} 3 \\\\ -5 \\\\ 4 \\\\ -3 \\end{array}\\right)$$\n",
    "\n",
    "### Vector Inicial $ x^{(o)}$::\n",
    "$$x^{(o)}= \\left(\\begin{array}{cccc} 0 & 0 & 0 & 0 \\end{array}\\right)$$\n",
    "\n",
    "### Formula::\n",
    "$$x^{k}=D^{-1}(L+U)x^{(k-1)}+D^{-1}b$$\n",
    "\n",
    "### Entonces\n",
    " |Matriz Diagonal |Matriz Triangular Inferior| Matriz Triangular Superior |\n",
    "  |:--- |:---- |:----:|\n",
    "  |$$D=\\left(\\begin{array}{cccc} 7 & 0 & 0 & 0 \\\\0 & 8 & 0 & 0\\\\ 0 & 0 & 4 & 0 \\\\ 0 & 0 & 0 & 6 \\end{array}\\right)$$|$$L=\\left(\\begin{array}{cccc} 0 & 0 & 0 & 0 \\\\-1 & 0 & 0 & 0\\\\ 1 & 0 & 0 & 0 \\\\ -2 & 2 & 1 & 0\\end{array}\\right)$$| $$U=\\left(\\begin{array}{cccc} 0 & 1 & 1 & -2 \\\\0 & 0 & 0 & 2\\\\ 0 & 0 & 0 & 1 \\\\ 0 & 0 & 0 & 0\\end{array}\\right)$$"
   ]
  },
  {
   "cell_type": "markdown",
   "id": "c088ce26",
   "metadata": {},
   "source": [
    "### Inversa de la Matriz Diagonal\n",
    "\n",
    "$$D^{-1}=\\left(\\begin{array}{cccc}\\frac {1}{7} & 0 & 0 & 0 \\\\ 0 & \\frac{1}{8} & 0 & 0 \\\\ 0 & 0 & \\frac{1}{4} &0 \\\\\n",
    "0 & 0 & 0 &\\frac{1}{6} \\end{array}\\right)$$\n",
    "\n",
    "\n",
    "### Hallamos L_U\n",
    "\n",
    "$$L-U=\\left(\\begin{array}{cccc}\\ 0 & 1 & 1 & -2 \\\\ -1 & 0 & 0 & 2 \\\\ 1 & 0 & 0 & 1 \\\\\n",
    "-2 & 2 & 1 & 0\\end{array}\\right)$$\n",
    "\n",
    "### Hallamos:: $D^{-1}(L+U)$\n",
    "\n",
    "$$D^{-1}(L+U)=\\left(\\begin{array}{cccc}\\ 0 & 1 & 1 & -2 \\\\ -1 & 0 & 0 & 2 \\\\ 1 & 0 & 0 & 1 \\\\\n",
    "-2 & 2 & 1 & 0\\end{array}\\right)$$\n",
    "\n",
    "### Hallamos: $D^{-1} b$\n",
    "\n",
    "$$D^{-1} b=\\left(\\begin{array}{c}0 \\\\ 1 \\\\ 1 \\\\ -2\\end{array}\\right)$$\n",
    "\n",
    "$X^{k}=D^{-1}(L+\\cup) x^{(k)}+D^{-1} b=$\n",
    "\n",
    "$$\n",
    "\\begin{aligned}\n",
    "&\\left(\\begin{array}{c}\n",
    "-0,1425 x_{2}+0,1429 x_{3}-0,285+x_{4} \\\\\n",
    "-0,125 x_{1}+0,25 x_{4} \\\\\n",
    "0,25 x_{1}+0,25 x_{4} \\\\\n",
    "-0,3333 x_{1}+0,3333 x_{2} + 0,1667 x_{3}\n",
    "\\end{array}\\right)+\\left(\\begin{array}{c}\n",
    "0,4286 \\\\\n",
    "-0,625 \\\\\n",
    "1 \\\\\n",
    "-0,5\n",
    "\\end{array}\\right)\\\\\n",
    "\\end{aligned}\n",
    "$$\n",
    "\n",
    "$x_{1}^{k}=-0,1425 x_{1}+0,1429 x_{3}-0,2857 x_{4}+0,4286$\n",
    "\n",
    "$x_{2}^{k}=-0,125 x_{1}+0,25 x_{4}-0,625$\n",
    "\n",
    "$x_{3}^{k}=0,25 x_{1}+0,25 x_{4}+1$\n",
    "\n",
    "$x_{4}^{k}-0,3333 x_{1}+0,3330 x_{2}+0,1667 x_{3}-0,5$\n",
    "\n",
    "$x^{(0)}=[0,0,0,0\\}$\n",
    "          \n",
    "\n",
    "\n"
   ]
  },
  {
   "cell_type": "code",
   "execution_count": 21,
   "id": "3dd4c724",
   "metadata": {},
   "outputs": [
    {
     "name": "stdout",
     "output_type": "stream",
     "text": [
      "  0 Vector Inicial: [0. 0. 0. 0.]\n",
      "  1 El resultado de la interaccion obtenida es: [ 0.4286 -0.625   1.     -0.5   ]\n",
      "  2 El resultado de la interaccion obtenida es: [ 0.8036 -0.8036  0.9821 -0.6845]\n",
      "  3 El resultado de la interaccion obtenida es: [ 0.8793 -0.8966  1.0298 -0.872 ]\n",
      "  4 El resultado de la interaccion obtenida es: [ 0.9529 -0.9529  1.0018 -0.9203]\n",
      "  5 El resultado de la interaccion obtenida es: [ 0.9708 -0.9742  1.0081 -0.9683]\n",
      "  6 El resultado de la interaccion obtenida es: [ 0.9884 -0.9884  1.0006 -0.9803]\n",
      "  7 El resultado de la interaccion obtenida es: [ 0.9928 -0.9936  1.002  -0.9922]\n",
      "  8 El resultado de la interaccion obtenida es: [ 0.9971 -0.9971  1.0002 -0.9951]\n",
      "  9 El resultado de la interaccion obtenida es: [ 0.9982 -0.9984  1.0005 -0.9981]\n",
      "  10 El resultado de la interaccion obtenida es: [ 0.9993 -0.9993  1.     -0.9988]\n",
      "  11 El resultado de la interaccion obtenida es: [ 0.9996 -0.9996  1.0001 -0.9995]\n",
      "  12 El resultado de la interaccion obtenida es: [ 0.9998 -0.9998  1.     -0.9997]\n",
      "  13 El resultado de la interaccion obtenida es: [ 0.9999 -0.9999  1.     -0.9999]\n",
      "  14 El resultado de la interaccion obtenida es: [ 1.     -1.      1.     -0.9999]\n",
      "  15 El resultado de la interaccion obtenida es: [ 1. -1.  1. -1.]\n",
      "El error de x 1 es = 0.002663216363818499 %\n",
      "El error de x 2 es = 0.0023597059060964654 %\n",
      "El error de x 3 es = 0.0007531940521277036 %\n",
      "El error de x 4 es = 0.0028952098574230867 %\n"
     ]
    }
   ],
   "source": [
    "import numpy as np\n",
    "A=np.array([[7,1,-1,2],[1,8,0,-2],[-1,0,4,-1],[2,-2,-1,6]])\n",
    "b=np.array([3,-5,4,-3])\n",
    "k=15\n",
    "n=A.shape[1]\n",
    "D=np.eye(n)\n",
    "D[np.arange(n),np.arange(n)]=A[np.arange(n),np.arange(n)]\n",
    "LU=D-A\n",
    "L=np.tril(LU)\n",
    "U=np.triu(LU)\n",
    "X=np.zeros(n)\n",
    "print(\" \",0,\"Vector Inicial:\",X)\n",
    "for i in range(k):\n",
    "    D_inv=np.linalg.inv(D)\n",
    "    X=np.dot(np.dot(D_inv,L+U),X)+np.dot(D_inv,b)\n",
    "    print(\" \",i+1,\"El resultado de la interaccion obtenida es:\",X.round(decimals=4))\n",
    "    \n",
    "    xR = ([1,-1,1,-1])\n",
    "e = np.zeros(4)\n",
    "for i in range(4):\n",
    "    e[i] = (xR[i]-X[i])/xR[i]\n",
    "    print('\\n El error de x',i+1,'es =',100*abs(e[i]),'%')\n",
    "    \n",
    "      \n",
    "    "
   ]
  },
  {
   "cell_type": "markdown",
   "id": "307965f1",
   "metadata": {},
   "source": [
    "### Método Gauss Seidel ###"
   ]
  },
  {
   "cell_type": "code",
   "execution_count": 10,
   "id": "8fca4a25",
   "metadata": {},
   "outputs": [
    {
     "name": "stdout",
     "output_type": "stream",
     "text": [
      "  0 Vector Inicial: [0. 0. 0. 0.]\n",
      "  1 El resultado de la interaccion obtenida es: [ 0.4286 -0.6786  1.1071 -0.6845]\n",
      "  2 El resultado de la interaccion obtenida es: [ 0.8793 -0.906   1.0487 -0.9203]\n",
      "  3 El resultado de la interaccion obtenida es: [ 0.9708 -0.9764  1.0126 -0.9803]\n",
      "  4 El resultado de la interaccion obtenida es: [ 0.9928 -0.9942  1.0031 -0.9951]\n",
      "  5 El resultado de la interaccion obtenida es: [ 0.9982 -0.9986  1.0008 -0.9988]\n",
      "  6 El resultado de la interaccion obtenida es: [ 0.9996 -0.9996  1.0002 -0.9997]\n",
      "  7 El resultado de la interaccion obtenida es: [ 0.9999 -0.9999  1.     -0.9999]\n",
      "  8 El resultado de la interaccion obtenida es: [ 1. -1.  1. -1.]\n",
      "El error de x 1 es = 0.002663216363818499 %\n",
      "El error de x 2 es = 0.002157104000255483 %\n",
      "El error de x 3 es = 0.0011583978638318726 %\n",
      "El error de x 4 es = 0.0017998397653373743 %\n"
     ]
    }
   ],
   "source": [
    "import numpy as np\n",
    "A=np.array([[7,1,-1,2],[1,8,0,-2],[-1,0,4,-1],[2,-2,-1,6]])\n",
    "b=np.array([3,-5,4,-3])\n",
    "k=8\n",
    "n=A.shape[1]\n",
    "D=np.eye(n) # Matriz de la Identidad\n",
    "D[np.arange(n),np.arange(n)]=A[np.arange(n),np.arange(n)] # MATRIZ DIAGONAL\n",
    "LU=D-A\n",
    "L=np.tril(LU)\n",
    "U=np.triu(LU)\n",
    "DL=D-L\n",
    "X=np.zeros(n)\n",
    "print(\" \",0,\"Vector Inicial:\",X)\n",
    "for i in range(k):\n",
    "    DL_inv=np.linalg.inv(DL)\n",
    "    X=np.dot(np.dot(DL_inv,U),X)+np.dot(DL_inv,b)\n",
    "    print(\" \",i+1,\"El resultado de la interaccion es:\",X.round(decimals=4))\n",
    "    \n",
    "    xR = ([1,-1,1,-1])\n",
    "e = np.zeros(4)\n",
    "for i in range(4):\n",
    "    e[i] = (xR[i]-X[i])/xR[i]\n",
    "    print('El error de x',i+1,'es =',100*abs(e[i]),'%')"
   ]
  },
  {
   "cell_type": "markdown",
   "id": "6dce86a2",
   "metadata": {},
   "source": [
    "### Método SOR ###"
   ]
  },
  {
   "cell_type": "code",
   "execution_count": 11,
   "id": "4be15163",
   "metadata": {},
   "outputs": [
    {
     "name": "stdout",
     "output_type": "stream",
     "text": [
      "  0 Vector Inicial: [0. 0. 0. 0.]\n",
      "  1 El resultado de la interacción es: [ 0.4714 -0.7523  1.2296 -0.7733]\n",
      "  2 El resultado de la interacción es: [ 0.9788 -0.9595  1.0335 -0.9939]\n",
      "  3 El resultado de la interacción es: [ 0.9991 -1.0022  0.9981 -1.0015]\n",
      "  4 El resultado de la interacción es: [ 1.0006 -1.0003  1.     -1.0002]\n",
      "  5 El resultado de la interacción es: [ 1. -1.  1. -1.]\n",
      "El error de x 1 es = 0.0029419032669952827 %\n",
      "El error de x 2 es = 0.002681983306263014 %\n",
      "El error de x 3 es = 0.0036134375151153364 %\n",
      "El error de x 4 es = 0.0009534752473339125 %\n"
     ]
    }
   ],
   "source": [
    "import numpy as np\n",
    "A=np.array([[7,1,-1,2],[1,8,0,-2],[-1,0,4,-1],[2,-2,-1,6]])\n",
    "b=np.array([3,-5,4,-3])\n",
    "k=5\n",
    "w=1.1\n",
    "n=A.shape[1]\n",
    "D=np.eye(n) # Matriz de la Identidad\n",
    "D[np.arange(n),np.arange(n)]=A[np.arange(n),np.arange(n)] # Matriz Diagonal\n",
    "LU=D-A\n",
    "L=np.tril(LU)\n",
    "U=np.triu(LU)\n",
    "D_wL=D-w*L\n",
    "X=np.zeros(n)\n",
    "print(\" \",0,\"Vector Inicial:\",X)\n",
    "for i in range(k):\n",
    "    D_wL_inv=np.linalg.inv(D_wL)\n",
    "    X=np.dot(np.dot(D_wL_inv,(1-w)*D+w*U),X)+w*np.dot(D_wL_inv,b)\n",
    "    print(\" \",i+1,\"El resultado de la interacción es:\",X.round(decimals=4))\n",
    "    \n",
    "    xR = ([1,-1,1,-1])\n",
    "e = np.zeros(4)\n",
    "for i in range(4):\n",
    "    e[i] = (xR[i]-X[i])/xR[i]\n",
    "    print('El error de x',i+1,'es =',100*abs(e[i]),'%')"
   ]
  },
  {
   "cell_type": "markdown",
   "id": "6fb061b9",
   "metadata": {},
   "source": [
    "### Ejemplo\n",
    "#### Determine la norma Frobenius de la sigueinte matriz:\n",
    "$$A=\\left(\\begin{array}{cccc}1&2&5&6\\\\6&4&0&0\\\\5&-8&3&5\\\\8&6&4&5\\end{array}\\right)$$\n",
    "\n",
    "#### Respuesta\n",
    "$$\\parallel{A}\\parallel_{F}=\\sqrt{(1)^2+(2)^2+(5)^2+(6)^2+(6)^2+(4)^2+(0)^2+(0)^2+(5)^2+(-8)^2+(3)^2+(5)^2+(8)^2+(6)^2+(4)^2+(5)^2}$$\n",
    "$$\\parallel{A}\\parallel_{F}=\\sqrt{382}= 19.544820 $$"
   ]
  },
  {
   "cell_type": "code",
   "execution_count": 27,
   "id": "42248e1d",
   "metadata": {},
   "outputs": [
    {
     "name": "stdout",
     "output_type": "stream",
     "text": [
      "Frobenius es :  19.544820285692065\n"
     ]
    }
   ],
   "source": [
    "import numpy as np\n",
    "from math import sqrt\n",
    "\n",
    "### Matriz (A):\n",
    "A=np.array([[1,2,5,6],[6,4,0,0],[5,-8,3,5],[8,6,4,5]])\n",
    "m=A.shape[0] # Numero Filas\n",
    "n=A.shape[1] # Numero Columnas\n",
    "sum_raiz=0\n",
    "for i in range(m):\n",
    "    for j in range(n):\n",
    "            sum_raiz+=pow(A[i][j],2)\n",
    "    Res=sqrt(sum_raiz)\n",
    "\n",
    "print(\"Frobenius es : \",Res)\n"
   ]
  }
 ],
 "metadata": {
  "kernelspec": {
   "display_name": "Python 3",
   "language": "python",
   "name": "python3"
  },
  "language_info": {
   "codemirror_mode": {
    "name": "ipython",
    "version": 3
   },
   "file_extension": ".py",
   "mimetype": "text/x-python",
   "name": "python",
   "nbconvert_exporter": "python",
   "pygments_lexer": "ipython3",
   "version": "3.8.8"
  }
 },
 "nbformat": 4,
 "nbformat_minor": 5
}
